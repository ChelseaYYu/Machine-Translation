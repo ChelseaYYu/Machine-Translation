{
 "cells": [
  {
   "cell_type": "markdown",
   "metadata": {
    "collapsed": true
   },
   "source": [
    "# Artificial Intelligence Nanodegree\n",
    "## Machine Translation Project\n",
    "In this notebook, sections that end with **'(IMPLEMENTATION)'** in the header indicate that the following blocks of code will require additional functionality which you must provide. Please be sure to read the instructions carefully!\n",
    "\n",
    "## Introduction\n",
    "In this notebook, you will build a deep neural network that functions as part of an end-to-end machine translation pipeline. Your completed pipeline will accept English text as input and return the French translation.\n",
    "\n",
    "- **Preprocess** - You'll convert text to sequence of integers.\n",
    "- **Models** Create models which accepts a sequence of integers as input and returns a probability distribution over possible translations. After learning about the basic types of neural networks that are often used for machine translation, you will engage in your own investigations, to design your own model!\n",
    "- **Prediction** Run the model on English text."
   ]
  },
  {
   "cell_type": "code",
   "execution_count": 15,
   "metadata": {},
   "outputs": [
    {
     "name": "stdout",
     "output_type": "stream",
     "text": [
      "The autoreload extension is already loaded. To reload it, use:\n",
      "  %reload_ext autoreload\n"
     ]
    }
   ],
   "source": [
    "%load_ext autoreload\n",
    "%aimport helper, tests\n",
    "%autoreload 1"
   ]
  },
  {
   "cell_type": "code",
   "execution_count": 16,
   "metadata": {},
   "outputs": [],
   "source": [
    "import collections\n",
    "\n",
    "import helper\n",
    "import numpy as np\n",
    "import project_tests as tests\n",
    "\n",
    "from keras.preprocessing.text import Tokenizer\n",
    "from keras.preprocessing.sequence import pad_sequences\n",
    "from keras.models import Model\n",
    "from keras.layers import GRU, Input, Dense, TimeDistributed, Activation, RepeatVector, Bidirectional\n",
    "from keras.layers.embeddings import Embedding\n",
    "from keras.optimizers import Adam\n",
    "from keras.losses import sparse_categorical_crossentropy"
   ]
  },
  {
   "cell_type": "markdown",
   "metadata": {},
   "source": [
    "### Verify access to the GPU\n",
    "The following test applies only if you expect to be using a GPU, e.g., while running in a Udacity Workspace or using an AWS instance with GPU support. Run the next cell, and verify that the device_type is \"GPU\".\n",
    "- If the device is not GPU & you are running from a Udacity Workspace, then save your workspace with the icon at the top, then click \"enable\" at the bottom of the workspace.\n",
    "- If the device is not GPU & you are running from an AWS instance, then refer to the cloud computing instructions in the classroom to verify your setup steps."
   ]
  },
  {
   "cell_type": "code",
   "execution_count": 17,
   "metadata": {},
   "outputs": [
    {
     "name": "stdout",
     "output_type": "stream",
     "text": [
      "[name: \"/cpu:0\"\n",
      "device_type: \"CPU\"\n",
      "memory_limit: 268435456\n",
      "locality {\n",
      "}\n",
      "incarnation: 7280111681520039984\n",
      ", name: \"/gpu:0\"\n",
      "device_type: \"GPU\"\n",
      "memory_limit: 358744064\n",
      "locality {\n",
      "  bus_id: 1\n",
      "}\n",
      "incarnation: 7465154353892046556\n",
      "physical_device_desc: \"device: 0, name: Tesla K80, pci bus id: 0000:00:06.0\"\n",
      "]\n"
     ]
    }
   ],
   "source": [
    "from tensorflow.python.client import device_lib\n",
    "print(device_lib.list_local_devices())"
   ]
  },
  {
   "cell_type": "markdown",
   "metadata": {},
   "source": [
    "## Dataset\n",
    "We begin by investigating the dataset that will be used to train and evaluate your pipeline.  The most common datasets used for machine translation are from [WMT](http://www.statmt.org/).  However, that will take a long time to train a neural network on.  We'll be using a dataset we created for this project that contains a small vocabulary.  You'll be able to train your model in a reasonable time with this dataset.\n",
    "### Load Data\n",
    "The data is located in `data/small_vocab_en` and `data/small_vocab_fr`. The `small_vocab_en` file contains English sentences with their French translations in the `small_vocab_fr` file. Load the English and French data from these files from running the cell below."
   ]
  },
  {
   "cell_type": "code",
   "execution_count": 18,
   "metadata": {},
   "outputs": [
    {
     "name": "stdout",
     "output_type": "stream",
     "text": [
      "Dataset Loaded\n"
     ]
    }
   ],
   "source": [
    "# Load English data\n",
    "english_sentences = helper.load_data('data/small_vocab_en')\n",
    "# Load French data\n",
    "french_sentences = helper.load_data('data/small_vocab_fr')\n",
    "\n",
    "print('Dataset Loaded')"
   ]
  },
  {
   "cell_type": "markdown",
   "metadata": {},
   "source": [
    "### Files\n",
    "Each line in `small_vocab_en` contains an English sentence with the respective translation in each line of `small_vocab_fr`.  View the first two lines from each file."
   ]
  },
  {
   "cell_type": "code",
   "execution_count": 19,
   "metadata": {},
   "outputs": [
    {
     "name": "stdout",
     "output_type": "stream",
     "text": [
      "small_vocab_en Line 1:  new jersey is sometimes quiet during autumn , and it is snowy in april .\n",
      "small_vocab_fr Line 1:  new jersey est parfois calme pendant l' automne , et il est neigeux en avril .\n",
      "small_vocab_en Line 2:  the united states is usually chilly during july , and it is usually freezing in november .\n",
      "small_vocab_fr Line 2:  les états-unis est généralement froid en juillet , et il gèle habituellement en novembre .\n"
     ]
    }
   ],
   "source": [
    "for sample_i in range(2):\n",
    "    print('small_vocab_en Line {}:  {}'.format(sample_i + 1, english_sentences[sample_i]))\n",
    "    print('small_vocab_fr Line {}:  {}'.format(sample_i + 1, french_sentences[sample_i]))"
   ]
  },
  {
   "cell_type": "markdown",
   "metadata": {},
   "source": [
    "From looking at the sentences, you can see they have been preprocessed already.  The puncuations have been delimited using spaces. All the text have been converted to lowercase.  This should save you some time, but the text requires more preprocessing.\n",
    "### Vocabulary\n",
    "The complexity of the problem is determined by the complexity of the vocabulary.  A more complex vocabulary is a more complex problem.  Let's look at the complexity of the dataset we'll be working with."
   ]
  },
  {
   "cell_type": "code",
   "execution_count": 20,
   "metadata": {},
   "outputs": [
    {
     "name": "stdout",
     "output_type": "stream",
     "text": [
      "1823250 English words.\n",
      "227 unique English words.\n",
      "10 Most common words in the English dataset:\n",
      "\"is\" \",\" \".\" \"in\" \"it\" \"during\" \"the\" \"but\" \"and\" \"sometimes\"\n",
      "\n",
      "1961295 French words.\n",
      "355 unique French words.\n",
      "10 Most common words in the French dataset:\n",
      "\"est\" \".\" \",\" \"en\" \"il\" \"les\" \"mais\" \"et\" \"la\" \"parfois\"\n"
     ]
    }
   ],
   "source": [
    "english_words_counter = collections.Counter([word for sentence in english_sentences for word in sentence.split()])\n",
    "french_words_counter = collections.Counter([word for sentence in french_sentences for word in sentence.split()])\n",
    "\n",
    "print('{} English words.'.format(len([word for sentence in english_sentences for word in sentence.split()])))\n",
    "print('{} unique English words.'.format(len(english_words_counter)))\n",
    "print('10 Most common words in the English dataset:')\n",
    "print('\"' + '\" \"'.join(list(zip(*english_words_counter.most_common(10)))[0]) + '\"')\n",
    "print()\n",
    "print('{} French words.'.format(len([word for sentence in french_sentences for word in sentence.split()])))\n",
    "print('{} unique French words.'.format(len(french_words_counter)))\n",
    "print('10 Most common words in the French dataset:')\n",
    "print('\"' + '\" \"'.join(list(zip(*french_words_counter.most_common(10)))[0]) + '\"')"
   ]
  },
  {
   "cell_type": "markdown",
   "metadata": {},
   "source": [
    "For comparison, _Alice's Adventures in Wonderland_ contains 2,766 unique words of a total of 15,500 words.\n",
    "## Preprocess\n",
    "For this project, you won't use text data as input to your model. Instead, you'll convert the text into sequences of integers using the following preprocess methods:\n",
    "1. Tokenize the words into ids\n",
    "2. Add padding to make all the sequences the same length.\n",
    "\n",
    "Time to start preprocessing the data...\n",
    "### Tokenize (IMPLEMENTATION)\n",
    "For a neural network to predict on text data, it first has to be turned into data it can understand. Text data like \"dog\" is a sequence of ASCII character encodings.  Since a neural network is a series of multiplication and addition operations, the input data needs to be number(s).\n",
    "\n",
    "We can turn each character into a number or each word into a number.  These are called character and word ids, respectively.  Character ids are used for character level models that generate text predictions for each character.  A word level model uses word ids that generate text predictions for each word.  Word level models tend to learn better, since they are lower in complexity, so we'll use those.\n",
    "\n",
    "Turn each sentence into a sequence of words ids using Keras's [`Tokenizer`](https://keras.io/preprocessing/text/#tokenizer) function. Use this function to tokenize `english_sentences` and `french_sentences` in the cell below.\n",
    "\n",
    "Running the cell will run `tokenize` on sample data and show output for debugging."
   ]
  },
  {
   "cell_type": "code",
   "execution_count": 21,
   "metadata": {},
   "outputs": [
    {
     "name": "stdout",
     "output_type": "stream",
     "text": [
      "{'the': 1, 'quick': 2, 'a': 3, 'brown': 4, 'fox': 5, 'jumps': 6, 'over': 7, 'lazy': 8, 'dog': 9, 'by': 10, 'jove': 11, 'my': 12, 'study': 13, 'of': 14, 'lexicography': 15, 'won': 16, 'prize': 17, 'this': 18, 'is': 19, 'short': 20, 'sentence': 21}\n",
      "\n",
      "Sequence 1 in x\n",
      "  Input:  The quick brown fox jumps over the lazy dog .\n",
      "  Output: [1, 2, 4, 5, 6, 7, 1, 8, 9]\n",
      "Sequence 2 in x\n",
      "  Input:  By Jove , my quick study of lexicography won a prize .\n",
      "  Output: [10, 11, 12, 2, 13, 14, 15, 16, 3, 17]\n",
      "Sequence 3 in x\n",
      "  Input:  This is a short sentence .\n",
      "  Output: [18, 19, 3, 20, 21]\n"
     ]
    }
   ],
   "source": [
    "def tokenize(x):\n",
    "    \"\"\"\n",
    "    Tokenize x\n",
    "    :param x: List of sentences/strings to be tokenized\n",
    "    :return: Tuple of (tokenized x data, tokenizer used to tokenize x)\n",
    "    \"\"\"\n",
    "    # Initialize tokenizer\n",
    "    tokenizer = Tokenizer()\n",
    "    \n",
    "    # Fit tokenizer on the sentences\n",
    "    tokenizer.fit_on_texts(x)\n",
    "    \n",
    "    # Convert sentences to sequences of integers\n",
    "    sequences = tokenizer.texts_to_sequences(x)\n",
    "    \n",
    "    # Return tokenized data and the tokenizer\n",
    "    return sequences, tokenizer\n",
    "\n",
    "tests.test_tokenize(tokenize)\n",
    "\n",
    "# Tokenize Example output\n",
    "text_sentences = [\n",
    "    'The quick brown fox jumps over the lazy dog .',\n",
    "    'By Jove , my quick study of lexicography won a prize .',\n",
    "    'This is a short sentence .']\n",
    "text_tokenized, text_tokenizer = tokenize(text_sentences)\n",
    "print(text_tokenizer.word_index)\n",
    "print()\n",
    "for sample_i, (sent, token_sent) in enumerate(zip(text_sentences, text_tokenized)):\n",
    "    print('Sequence {} in x'.format(sample_i + 1))\n",
    "    print('  Input:  {}'.format(sent))\n",
    "    print('  Output: {}'.format(token_sent))"
   ]
  },
  {
   "cell_type": "markdown",
   "metadata": {},
   "source": [
    "### Padding (IMPLEMENTATION)\n",
    "When batching the sequence of word ids together, each sequence needs to be the same length.  Since sentences are dynamic in length, we can add padding to the end of the sequences to make them the same length.\n",
    "\n",
    "Make sure all the English sequences have the same length and all the French sequences have the same length by adding padding to the **end** of each sequence using Keras's [`pad_sequences`](https://keras.io/preprocessing/sequence/#pad_sequences) function."
   ]
  },
  {
   "cell_type": "code",
   "execution_count": 22,
   "metadata": {},
   "outputs": [
    {
     "name": "stdout",
     "output_type": "stream",
     "text": [
      "Sequence 1 in x\n",
      "  Input:  [1 2 4 5 6 7 1 8 9]\n",
      "  Output: [1 2 4 5 6 7 1 8 9 0]\n",
      "Sequence 2 in x\n",
      "  Input:  [10 11 12  2 13 14 15 16  3 17]\n",
      "  Output: [10 11 12  2 13 14 15 16  3 17]\n",
      "Sequence 3 in x\n",
      "  Input:  [18 19  3 20 21]\n",
      "  Output: [18 19  3 20 21  0  0  0  0  0]\n"
     ]
    }
   ],
   "source": [
    "def pad(x, length=None):\n",
    "    \"\"\"\n",
    "    Pad x\n",
    "    :param x: List of sequences.\n",
    "    :param length: Length to pad the sequence to.  If None, use length of longest sequence in x.\n",
    "    :return: Padded numpy array of sequences\n",
    "    \"\"\"\n",
    "    if length is None:\n",
    "        length = max(len(seq) for seq in x)\n",
    "    \n",
    "    # Initialize an empty array for the padded sequences\n",
    "    padded_array = np.zeros((len(x), length), dtype=np.int32)\n",
    "    \n",
    "    # Pad each sequence\n",
    "    for i, seq in enumerate(x):\n",
    "        seq_length = len(seq)\n",
    "        padded_array[i, :seq_length] = seq[:length]  # Truncate sequences longer than the specified length\n",
    "    \n",
    "    return padded_array\n",
    "\n",
    "tests.test_pad(pad)\n",
    "\n",
    "# Pad Tokenized output\n",
    "test_pad = pad(text_tokenized)\n",
    "for sample_i, (token_sent, pad_sent) in enumerate(zip(text_tokenized, test_pad)):\n",
    "    print('Sequence {} in x'.format(sample_i + 1))\n",
    "    print('  Input:  {}'.format(np.array(token_sent)))\n",
    "    print('  Output: {}'.format(pad_sent))"
   ]
  },
  {
   "cell_type": "markdown",
   "metadata": {},
   "source": [
    "### Preprocess Pipeline\n",
    "Your focus for this project is to build neural network architecture, so we won't ask you to create a preprocess pipeline.  Instead, we've provided you with the implementation of the `preprocess` function."
   ]
  },
  {
   "cell_type": "code",
   "execution_count": 23,
   "metadata": {},
   "outputs": [
    {
     "name": "stdout",
     "output_type": "stream",
     "text": [
      "Data Preprocessed\n",
      "Max English sentence length: 15\n",
      "Max French sentence length: 21\n",
      "English vocabulary size: 199\n",
      "French vocabulary size: 344\n"
     ]
    }
   ],
   "source": [
    "def preprocess(x, y):\n",
    "    \"\"\"\n",
    "    Preprocess x and y\n",
    "    :param x: Feature List of sentences\n",
    "    :param y: Label List of sentences\n",
    "    :return: Tuple of (Preprocessed x, Preprocessed y, x tokenizer, y tokenizer)\n",
    "    \"\"\"\n",
    "    preprocess_x, x_tk = tokenize(x)\n",
    "    preprocess_y, y_tk = tokenize(y)\n",
    "\n",
    "    preprocess_x = pad(preprocess_x)\n",
    "    preprocess_y = pad(preprocess_y)\n",
    "\n",
    "    # Keras's sparse_categorical_crossentropy function requires the labels to be in 3 dimensions\n",
    "    preprocess_y = preprocess_y.reshape(*preprocess_y.shape, 1)\n",
    "\n",
    "    return preprocess_x, preprocess_y, x_tk, y_tk\n",
    "\n",
    "preproc_english_sentences, preproc_french_sentences, english_tokenizer, french_tokenizer =\\\n",
    "    preprocess(english_sentences, french_sentences)\n",
    "    \n",
    "max_english_sequence_length = preproc_english_sentences.shape[1]\n",
    "max_french_sequence_length = preproc_french_sentences.shape[1]\n",
    "english_vocab_size = len(english_tokenizer.word_index)\n",
    "french_vocab_size = len(french_tokenizer.word_index)\n",
    "\n",
    "print('Data Preprocessed')\n",
    "print(\"Max English sentence length:\", max_english_sequence_length)\n",
    "print(\"Max French sentence length:\", max_french_sequence_length)\n",
    "print(\"English vocabulary size:\", english_vocab_size)\n",
    "print(\"French vocabulary size:\", french_vocab_size)"
   ]
  },
  {
   "cell_type": "markdown",
   "metadata": {},
   "source": [
    "## Models\n",
    "In this section, you will experiment with various neural network architectures.\n",
    "You will begin by training four relatively simple architectures.\n",
    "- Model 1 is a simple RNN\n",
    "- Model 2 is a RNN with Embedding\n",
    "- Model 3 is a Bidirectional RNN\n",
    "- Model 4 is an Encoder-Decoder RNN\n",
    "\n",
    "After experimenting with the four simple architectures, you will construct a deeper architecture that is designed to outperform all four models.\n",
    "### Ids Back to Text\n",
    "The neural network will be translating the input to words ids, which isn't the final form we want.  We want the French translation.  The function `logits_to_text` will bridge the gab between the logits from the neural network to the French translation.  You'll be using this function to better understand the output of the neural network."
   ]
  },
  {
   "cell_type": "code",
   "execution_count": 24,
   "metadata": {},
   "outputs": [
    {
     "name": "stdout",
     "output_type": "stream",
     "text": [
      "`logits_to_text` function loaded.\n"
     ]
    }
   ],
   "source": [
    "def logits_to_text(logits, tokenizer):\n",
    "    \"\"\"\n",
    "    Turn logits from a neural network into text using the tokenizer\n",
    "    :param logits: Logits from a neural network\n",
    "    :param tokenizer: Keras Tokenizer fit on the labels\n",
    "    :return: String that represents the text of the logits\n",
    "    \"\"\"\n",
    "    index_to_words = {id: word for word, id in tokenizer.word_index.items()}\n",
    "    index_to_words[0] = '<PAD>'\n",
    "\n",
    "    return ' '.join([index_to_words[prediction] for prediction in np.argmax(logits, 1)])\n",
    "\n",
    "print('`logits_to_text` function loaded.')"
   ]
  },
  {
   "cell_type": "markdown",
   "metadata": {},
   "source": [
    "### Model 1: RNN (IMPLEMENTATION)\n",
    "![RNN](images/rnn.png)\n",
    "A basic RNN model is a good baseline for sequence data.  In this model, you'll build a RNN that translates English to French."
   ]
  },
  {
   "cell_type": "code",
   "execution_count": 11,
   "metadata": {},
   "outputs": [
    {
     "name": "stdout",
     "output_type": "stream",
     "text": [
      "Train on 110288 samples, validate on 27573 samples\n",
      "Epoch 1/10\n",
      "110288/110288 [==============================] - 6s 55us/step - loss: 2.5901 - acc: 0.4677 - val_loss: nan - val_acc: 0.5429\n",
      "Epoch 2/10\n",
      "110288/110288 [==============================] - 5s 49us/step - loss: 1.7959 - acc: 0.5716 - val_loss: nan - val_acc: 0.5907\n",
      "Epoch 3/10\n",
      "110288/110288 [==============================] - 5s 49us/step - loss: 1.5523 - acc: 0.5984 - val_loss: nan - val_acc: 0.6053\n",
      "Epoch 4/10\n",
      "110288/110288 [==============================] - 5s 49us/step - loss: 1.4334 - acc: 0.6124 - val_loss: nan - val_acc: 0.6208\n",
      "Epoch 5/10\n",
      "110288/110288 [==============================] - 5s 49us/step - loss: 1.3491 - acc: 0.6283 - val_loss: nan - val_acc: 0.6358\n",
      "Epoch 6/10\n",
      "110288/110288 [==============================] - 5s 49us/step - loss: 1.2850 - acc: 0.6391 - val_loss: nan - val_acc: 0.6457\n",
      "Epoch 7/10\n",
      "110288/110288 [==============================] - 5s 49us/step - loss: 1.2371 - acc: 0.6478 - val_loss: nan - val_acc: 0.6546\n",
      "Epoch 8/10\n",
      "110288/110288 [==============================] - 5s 49us/step - loss: 1.2014 - acc: 0.6549 - val_loss: nan - val_acc: 0.6595\n",
      "Epoch 9/10\n",
      "110288/110288 [==============================] - 5s 49us/step - loss: 1.1723 - acc: 0.6603 - val_loss: nan - val_acc: 0.6624\n",
      "Epoch 10/10\n",
      "110288/110288 [==============================] - 5s 49us/step - loss: 1.1475 - acc: 0.6638 - val_loss: nan - val_acc: 0.6697\n",
      "new jersey est parfois calme en l' et il est est est en <PAD> <PAD> <PAD> <PAD> <PAD> <PAD> <PAD> <PAD>\n"
     ]
    }
   ],
   "source": [
    "from keras.models import Sequential\n",
    "from keras.layers import SimpleRNN, Dense\n",
    "def simple_model(input_shape, output_sequence_length, english_vocab_size, french_vocab_size):\n",
    "    \"\"\"\n",
    "    Build and train a basic RNN on x and y\n",
    "    :param input_shape: Tuple of input shape\n",
    "    :param output_sequence_length: Length of output sequence\n",
    "    :param english_vocab_size: Number of unique English words in the dataset\n",
    "    :param french_vocab_size: Number of unique French words in the dataset\n",
    "    :return: Keras model built, but not trained\n",
    "    \"\"\"\n",
    "    # TODO: Build the layers\n",
    "    learning_rate =1e-3\n",
    "    model = Sequential()\n",
    "    \n",
    "    # Add a SimpleRNN layer with input_shape and return_sequences=True\n",
    "    model.add(SimpleRNN(english_vocab_size, input_shape=input_shape[1:], return_sequences=True))\n",
    "    \n",
    "    # Add a Dense layer with the number of neurons equal to the french_vocab_size\n",
    "    model.add(TimeDistributed(Dense(french_vocab_size, activation='softmax')))\n",
    "\n",
    "    \n",
    "    # Compile the model\n",
    "    model.compile(loss='sparse_categorical_crossentropy',\n",
    "                  optimizer=Adam(learning_rate),\n",
    "                  metrics=['accuracy'])\n",
    "    \n",
    "    return model\n",
    "\n",
    "\n",
    "\n",
    "tests.test_simple_model(simple_model)\n",
    "\n",
    "# Reshaping the input to work with a basic RNN\n",
    "tmp_x = pad(preproc_english_sentences, max_french_sequence_length)\n",
    "tmp_x = tmp_x.reshape((-1, preproc_french_sentences.shape[-2], 1))\n",
    "\n",
    "# Train the neural network\n",
    "simple_rnn_model = simple_model(\n",
    "    tmp_x.shape,\n",
    "    max_french_sequence_length,\n",
    "    english_vocab_size,\n",
    "    french_vocab_size)\n",
    "simple_rnn_model.fit(tmp_x, preproc_french_sentences, batch_size=1024, epochs=10, validation_split=0.2)\n",
    "\n",
    "# Print prediction(s)\n",
    "print(logits_to_text(simple_rnn_model.predict(tmp_x[:1])[0], french_tokenizer))"
   ]
  },
  {
   "cell_type": "markdown",
   "metadata": {},
   "source": [
    "### Model 2: Embedding (IMPLEMENTATION)\n",
    "![RNN](images/embedding.png)\n",
    "You've turned the words into ids, but there's a better representation of a word.  This is called word embeddings.  An embedding is a vector representation of the word that is close to similar words in n-dimensional space, where the n represents the size of the embedding vectors.\n",
    "\n",
    "In this model, you'll create a RNN model using embedding."
   ]
  },
  {
   "cell_type": "code",
   "execution_count": 23,
   "metadata": {},
   "outputs": [
    {
     "name": "stdout",
     "output_type": "stream",
     "text": [
      "_________________________________________________________________\n",
      "Layer (type)                 Output Shape              Param #   \n",
      "=================================================================\n",
      "embedding_8 (Embedding)      (None, 21, 256)           50944     \n",
      "_________________________________________________________________\n",
      "simple_rnn_2 (SimpleRNN)     (None, 21, 400)           262800    \n",
      "_________________________________________________________________\n",
      "time_distributed_12 (TimeDis (None, 21, 344)           137944    \n",
      "=================================================================\n",
      "Total params: 451,688\n",
      "Trainable params: 451,688\n",
      "Non-trainable params: 0\n",
      "_________________________________________________________________\n",
      "None\n",
      "Train on 110288 samples, validate on 27573 samples\n",
      "Epoch 1/10\n",
      "110288/110288 [==============================] - 13s 121us/step - loss: 2.5185 - acc: 0.5280 - val_loss: nan - val_acc: 0.6250\n",
      "Epoch 2/10\n",
      "110288/110288 [==============================] - 12s 112us/step - loss: 1.2140 - acc: 0.7106 - val_loss: nan - val_acc: 0.7793\n",
      "Epoch 3/10\n",
      "110288/110288 [==============================] - 12s 112us/step - loss: 0.7036 - acc: 0.8152 - val_loss: nan - val_acc: 0.8439\n",
      "Epoch 4/10\n",
      "110288/110288 [==============================] - 12s 113us/step - loss: 0.4882 - acc: 0.8579 - val_loss: nan - val_acc: 0.8661\n",
      "Epoch 5/10\n",
      "110288/110288 [==============================] - 12s 112us/step - loss: 0.3932 - acc: 0.8801 - val_loss: nan - val_acc: 0.8896\n",
      "Epoch 6/10\n",
      "110288/110288 [==============================] - 12s 112us/step - loss: 0.3362 - acc: 0.8951 - val_loss: nan - val_acc: 0.9010\n",
      "Epoch 7/10\n",
      "110288/110288 [==============================] - 12s 113us/step - loss: 0.2987 - acc: 0.9052 - val_loss: nan - val_acc: 0.9087\n",
      "Epoch 8/10\n",
      "110288/110288 [==============================] - 12s 112us/step - loss: 0.2715 - acc: 0.9126 - val_loss: nan - val_acc: 0.9109\n",
      "Epoch 9/10\n",
      "110288/110288 [==============================] - 12s 113us/step - loss: 0.2548 - acc: 0.9167 - val_loss: nan - val_acc: 0.9190\n",
      "Epoch 10/10\n",
      "110288/110288 [==============================] - 12s 112us/step - loss: 0.2385 - acc: 0.9211 - val_loss: nan - val_acc: 0.9204\n",
      "new jersey est parfois calme en l' automne l' il est neigeux en avril <PAD> <PAD> <PAD> <PAD> <PAD> <PAD> <PAD>\n"
     ]
    }
   ],
   "source": [
    "from keras.models import Sequential\n",
    "from keras.layers import SimpleRNN, Dense\n",
    "\n",
    "def embed_model(input_shape, output_sequence_length, english_vocab_size, french_vocab_size):\n",
    "    \"\"\"\n",
    "    Build and train a RNN model using word embedding on x and y\n",
    "    :param input_shape: Tuple of input shape\n",
    "    :param output_sequence_length: Length of output sequence\n",
    "    :param english_vocab_size: Number of unique English words in the dataset\n",
    "    :param french_vocab_size: Number of unique French words in the dataset\n",
    "    :return: Keras model built, but not trained\n",
    "    \"\"\"\n",
    "    # TODO: Implement\n",
    "    \n",
    "    learning_rate = 1e-3 \n",
    "    \n",
    "    model = Sequential()    \n",
    "    model.add(Embedding(input_dim=english_vocab_size, output_dim=256,input_length=input_shape[1]))\n",
    "    \n",
    "    # Add a SimpleRNN layer with input_shape and return_sequences=True\n",
    "    model.add(SimpleRNN(400, return_sequences=True))\n",
    "    \n",
    "    # Add a Dense layer with the number of neurons equal to the french_vocab_size\n",
    "    model.add(TimeDistributed(Dense(french_vocab_size, activation='softmax'))) \n",
    "   \n",
    "\n",
    "    model.compile(loss=sparse_categorical_crossentropy,\n",
    "                  optimizer=Adam(learning_rate),\n",
    "                  metrics=['accuracy'])    \n",
    "    \n",
    "    return model\n",
    "\n",
    "tests.test_embed_model(embed_model)\n",
    "\n",
    "\n",
    "# TODO: Reshape the input\n",
    "\n",
    "tmp_x = pad(preproc_english_sentences, max_french_sequence_length)\n",
    "\n",
    "# shape_of_tmp_x = tmp_x.shape\n",
    "# print(\"Shape of tmp_x:\", shape_of_tmp_x)\n",
    "\n",
    "# TODO: Train the neural network\n",
    "\n",
    "embedding_rnn_model = embed_model(\n",
    "    tmp_x.shape,\n",
    "    max_french_sequence_length,\n",
    "    english_vocab_size,\n",
    "    french_vocab_size)\n",
    "print(embedding_rnn_model.summary())\n",
    "embedding_rnn_model.fit(tmp_x, preproc_french_sentences, batch_size=1024, epochs=10, validation_split=0.2)\n",
    "\n",
    "# TODO: Print prediction(s)\n",
    "print(logits_to_text(embedding_rnn_model.predict(tmp_x[:1])[0], french_tokenizer))\n",
    "\n"
   ]
  },
  {
   "cell_type": "markdown",
   "metadata": {},
   "source": [
    "### Model 3: Bidirectional RNNs (IMPLEMENTATION)\n",
    "![RNN](images/bidirectional.png)\n",
    "One restriction of a RNN is that it can't see the future input, only the past.  This is where bidirectional recurrent neural networks come in.  They are able to see the future data."
   ]
  },
  {
   "cell_type": "code",
   "execution_count": 16,
   "metadata": {},
   "outputs": [
    {
     "name": "stdout",
     "output_type": "stream",
     "text": [
      "Train on 110288 samples, validate on 27573 samples\n",
      "Epoch 1/10\n",
      "110288/110288 [==============================] - 23s 212us/step - loss: 2.2775 - acc: 0.5359 - val_loss: nan - val_acc: 0.5994\n",
      "Epoch 2/10\n",
      "110288/110288 [==============================] - 23s 205us/step - loss: 1.4257 - acc: 0.6169 - val_loss: nan - val_acc: 0.6313\n",
      "Epoch 3/10\n",
      "110288/110288 [==============================] - 23s 206us/step - loss: 1.2645 - acc: 0.6421 - val_loss: nan - val_acc: 0.6531\n",
      "Epoch 4/10\n",
      "110288/110288 [==============================] - 23s 206us/step - loss: 1.1688 - acc: 0.6612 - val_loss: nan - val_acc: 0.6715\n",
      "Epoch 5/10\n",
      "110288/110288 [==============================] - 23s 206us/step - loss: 1.0947 - acc: 0.6784 - val_loss: nan - val_acc: 0.6838\n",
      "Epoch 6/10\n",
      "110288/110288 [==============================] - 23s 206us/step - loss: 1.0374 - acc: 0.6876 - val_loss: nan - val_acc: 0.6891\n",
      "Epoch 7/10\n",
      "110288/110288 [==============================] - 23s 206us/step - loss: 0.9913 - acc: 0.6937 - val_loss: nan - val_acc: 0.6970\n",
      "Epoch 8/10\n",
      "110288/110288 [==============================] - 23s 206us/step - loss: 0.9507 - acc: 0.7007 - val_loss: nan - val_acc: 0.7015\n",
      "Epoch 9/10\n",
      "110288/110288 [==============================] - 23s 206us/step - loss: 0.9167 - acc: 0.7057 - val_loss: nan - val_acc: 0.7067\n",
      "Epoch 10/10\n",
      "110288/110288 [==============================] - 23s 206us/step - loss: 0.8872 - acc: 0.7105 - val_loss: nan - val_acc: 0.7145\n",
      "new jersey est parfois calme en l' de il il il en en <PAD> <PAD> <PAD> <PAD> <PAD> <PAD> <PAD> <PAD>\n"
     ]
    }
   ],
   "source": [
    "def bd_model(input_shape, output_sequence_length, english_vocab_size, french_vocab_size):\n",
    "    \"\"\"\n",
    "    Build and train a bidirectional RNN model on x and y\n",
    "    :param input_shape: Tuple of input shape\n",
    "    :param output_sequence_length: Length of output sequence\n",
    "    :param english_vocab_size: Number of unique English words in the dataset\n",
    "    :param french_vocab_size: Number of unique French words in the dataset\n",
    "    :return: Keras model built, but not trained\n",
    "    \"\"\"\n",
    "    # TODO: Implement\n",
    "    \n",
    "    learning_rate = 0.001\n",
    "    \n",
    "\n",
    "    model = Sequential([\n",
    "        Bidirectional(GRU(units=english_vocab_size, return_sequences=True), input_shape=input_shape[1:]),\n",
    "        TimeDistributed(Dense(french_vocab_size)),\n",
    "        Activation('softmax')\n",
    "    ])\n",
    "    \n",
    "    \n",
    "    model.compile(loss=sparse_categorical_crossentropy,\n",
    "                  optimizer=Adam(learning_rate),\n",
    "                  metrics=['accuracy'])\n",
    "    \n",
    "    return model\n",
    "\n",
    "tests.test_bd_model(bd_model)\n",
    "\n",
    "# TODO: Train and Print prediction(s)\n",
    "\n",
    "tmp_x = pad(preproc_english_sentences, max_french_sequence_length)\n",
    "tmp_x = tmp_x.reshape((-1, preproc_french_sentences.shape[-2], 1))\n",
    "\n",
    "# Train the neural network\n",
    "bd_rnn_model = bd_model(\n",
    "    tmp_x.shape,\n",
    "    max_french_sequence_length,\n",
    "    english_vocab_size,\n",
    "    french_vocab_size)\n",
    "\n",
    "bd_rnn_model.fit(tmp_x, preproc_french_sentences, batch_size=1024, epochs=10, validation_split=0.2)\n",
    "\n",
    "# Print prediction(s)\n",
    "print(logits_to_text(bd_rnn_model.predict(tmp_x[:1])[0], french_tokenizer))"
   ]
  },
  {
   "cell_type": "markdown",
   "metadata": {},
   "source": [
    "### Model 4: Encoder-Decoder (IMPLEMENTATION)\n",
    "Time to look at encoder-decoder models.  This model is made up of an encoder and decoder. The encoder creates a matrix representation of the sentence.  The decoder takes this matrix as input and predicts the translation as output.\n",
    "\n",
    "Create an encoder-decoder model in the cell below."
   ]
  },
  {
   "cell_type": "code",
   "execution_count": 11,
   "metadata": {},
   "outputs": [
    {
     "name": "stdout",
     "output_type": "stream",
     "text": [
      "Train on 110288 samples, validate on 27573 samples\n",
      "Epoch 1/10\n",
      "110288/110288 [==============================] - 31s 285us/step - loss: 2.5783 - acc: 0.4847 - val_loss: nan - val_acc: 0.5419\n",
      "Epoch 2/10\n",
      "110288/110288 [==============================] - 31s 277us/step - loss: 1.7794 - acc: 0.5638 - val_loss: nan - val_acc: 0.5844\n",
      "Epoch 3/10\n",
      "110288/110288 [==============================] - 31s 277us/step - loss: 1.5512 - acc: 0.5895 - val_loss: nan - val_acc: 0.5994\n",
      "Epoch 4/10\n",
      "110288/110288 [==============================] - 31s 278us/step - loss: 1.4327 - acc: 0.6068 - val_loss: nan - val_acc: 0.6122\n",
      "Epoch 5/10\n",
      "110288/110288 [==============================] - 31s 278us/step - loss: 1.3550 - acc: 0.6185 - val_loss: nan - val_acc: 0.6267\n",
      "Epoch 6/10\n",
      "110288/110288 [==============================] - 31s 279us/step - loss: 1.2986 - acc: 0.6291 - val_loss: nan - val_acc: 0.6281\n",
      "Epoch 7/10\n",
      "110288/110288 [==============================] - 31s 279us/step - loss: 1.2607 - acc: 0.6353 - val_loss: nan - val_acc: 0.6404\n",
      "Epoch 8/10\n",
      "110288/110288 [==============================] - 31s 278us/step - loss: 1.2308 - acc: 0.6399 - val_loss: nan - val_acc: 0.6418\n",
      "Epoch 9/10\n",
      "110288/110288 [==============================] - 31s 278us/step - loss: 1.1995 - acc: 0.6446 - val_loss: nan - val_acc: 0.6479\n",
      "Epoch 10/10\n",
      "110288/110288 [==============================] - 31s 278us/step - loss: 1.1676 - acc: 0.6523 - val_loss: nan - val_acc: 0.6616\n",
      "new jersey est jamais froid en l' et il est est en en <PAD> <PAD> <PAD> <PAD> <PAD> <PAD> <PAD> <PAD>\n"
     ]
    }
   ],
   "source": [
    "def encdec_model(input_shape, output_sequence_length, english_vocab_size, french_vocab_size):\n",
    "    \"\"\"\n",
    "    Build and train an encoder-decoder model on x and y\n",
    "    :param input_shape: Tuple of input shape\n",
    "    :param output_sequence_length: Length of output sequence\n",
    "    :param english_vocab_size: Number of unique English words in the dataset\n",
    "    :param french_vocab_size: Number of unique French words in the dataset\n",
    "    :return: Keras model built, but not trained\n",
    "    \"\"\"\n",
    "    # TODO: Implement\n",
    "    \n",
    "    from keras.layers import LSTM\n",
    "    \n",
    "    learning_rate = 0.001\n",
    "    \n",
    "    #Encoder\n",
    "    encoder_input_seq = Input(shape=input_shape[1:])\n",
    "    encoder_output, state_h, state_c = LSTM(units=english_vocab_size, \n",
    "                                  return_sequences=False,\n",
    "                                  return_state=True)(encoder_input_seq)\n",
    "\n",
    "        \n",
    "    #Decoder  \n",
    "    decoder_input_seq = RepeatVector(output_sequence_length)(encoder_output)\n",
    "    decoder_out = LSTM(units=english_vocab_size,\n",
    "                      return_sequences=True,\n",
    "                      return_state=False)(decoder_input_seq, initial_state=[state_h, state_c])\n",
    "    logits = TimeDistributed(Dense(units=french_vocab_size))(decoder_out) \n",
    "\n",
    "    model = Model(encoder_input_seq, Activation('softmax')(logits))\n",
    "    model.compile(loss=sparse_categorical_crossentropy,\n",
    "                  optimizer=Adam(lr=learning_rate),\n",
    "                  metrics=['accuracy'])\n",
    "     \n",
    "    return model    \n",
    "\n",
    "tests.test_encdec_model(encdec_model)\n",
    "\n",
    "\n",
    "# TODO: Train and Print prediction(s)\n",
    "\n",
    "\n",
    "tmp_x = pad(preproc_english_sentences, max_french_sequence_length)\n",
    "tmp_x = tmp_x.reshape((-1, preproc_french_sentences.shape[-2], 1))\n",
    "\n",
    "# Train the neural network\n",
    "encdec_rnn_model = encdec_model(\n",
    "    tmp_x.shape,\n",
    "    max_french_sequence_length,\n",
    "    english_vocab_size,\n",
    "    french_vocab_size)\n",
    "\n",
    "encdec_rnn_model.fit(tmp_x, preproc_french_sentences, batch_size=1024, epochs=10, validation_split=0.2)\n",
    "\n",
    "# Print prediction(s)\n",
    "print(logits_to_text(encdec_rnn_model.predict(tmp_x[:1])[0], french_tokenizer))"
   ]
  },
  {
   "cell_type": "markdown",
   "metadata": {},
   "source": [
    "### Model 5: Custom (IMPLEMENTATION)\n",
    "Use everything you learned from the previous models to create a model that incorporates embedding and a bidirectional rnn into one model."
   ]
  },
  {
   "cell_type": "code",
   "execution_count": 21,
   "metadata": {},
   "outputs": [
    {
     "name": "stdout",
     "output_type": "stream",
     "text": [
      "Final Model Loaded\n",
      "_________________________________________________________________\n",
      "Layer (type)                 Output Shape              Param #   \n",
      "=================================================================\n",
      "embedding_11 (Embedding)     (None, 21, 400)           79600     \n",
      "_________________________________________________________________\n",
      "bidirectional_8 (Bidirection (None, 21, 800)           1922400   \n",
      "_________________________________________________________________\n",
      "time_distributed_10 (TimeDis (None, 21, 344)           275544    \n",
      "=================================================================\n",
      "Total params: 2,277,544\n",
      "Trainable params: 2,277,544\n",
      "Non-trainable params: 0\n",
      "_________________________________________________________________\n",
      "None\n",
      "Train on 110288 samples, validate on 27573 samples\n",
      "Epoch 1/10\n",
      "110288/110288 [==============================] - 55s 501us/step - loss: 2.2561 - acc: 0.5521 - val_loss: nan - val_acc: 0.7156\n",
      "Epoch 2/10\n",
      "110288/110288 [==============================] - 54s 492us/step - loss: 0.8445 - acc: 0.7819 - val_loss: nan - val_acc: 0.8289\n",
      "Epoch 3/10\n",
      "110288/110288 [==============================] - 54s 493us/step - loss: 0.4887 - acc: 0.8578 - val_loss: nan - val_acc: 0.8808\n",
      "Epoch 4/10\n",
      "110288/110288 [==============================] - 54s 492us/step - loss: 0.3326 - acc: 0.8983 - val_loss: nan - val_acc: 0.9162\n",
      "Epoch 5/10\n",
      "110288/110288 [==============================] - 54s 493us/step - loss: 0.2470 - acc: 0.9247 - val_loss: nan - val_acc: 0.9335\n",
      "Epoch 6/10\n",
      "110288/110288 [==============================] - 54s 492us/step - loss: 0.1945 - acc: 0.9410 - val_loss: nan - val_acc: 0.9411\n",
      "Epoch 7/10\n",
      "110288/110288 [==============================] - 54s 493us/step - loss: 0.1591 - acc: 0.9518 - val_loss: nan - val_acc: 0.9544\n",
      "Epoch 8/10\n",
      "110288/110288 [==============================] - 54s 492us/step - loss: 0.1355 - acc: 0.9592 - val_loss: nan - val_acc: 0.9587\n",
      "Epoch 9/10\n",
      "110288/110288 [==============================] - 54s 493us/step - loss: 0.1173 - acc: 0.9644 - val_loss: nan - val_acc: 0.9627\n",
      "Epoch 10/10\n",
      "110288/110288 [==============================] - 54s 493us/step - loss: 0.1034 - acc: 0.9685 - val_loss: nan - val_acc: 0.9674\n",
      "new jersey est parfois calme pendant l' automne et il est neigeux en avril <PAD> <PAD> <PAD> <PAD> <PAD> <PAD> <PAD>\n"
     ]
    }
   ],
   "source": [
    "from keras.models import Sequential\n",
    "from keras.layers import SimpleRNN, Dense\n",
    "\n",
    "def model_final2(input_shape, output_sequence_length, english_vocab_size, french_vocab_size):\n",
    "    \"\"\"\n",
    "    Build and train a model that incorporates embedding, encoder-decoder, and bidirectional RNN on x and y\n",
    "    :param input_shape: Tuple of input shape\n",
    "    :param output_sequence_length: Length of output sequence\n",
    "    :param english_vocab_size: Number of unique English words in the dataset\n",
    "    :param french_vocab_size: Number of unique French words in the dataset\n",
    "    :return: Keras model built, but not trained\n",
    "    \"\"\"\n",
    "    # TODO: Implement\n",
    "    \n",
    "    learning_rate = 1e-3\n",
    "    model = Sequential()    \n",
    "    model.add(Embedding(input_dim=english_vocab_size, output_dim=400,input_length=input_shape[1:][0]))\n",
    "    model.add(Bidirectional(GRU(units=400, return_sequences=True)))\n",
    "        # Add a Dense layer with the number of neurons equal to the french_vocab_size\n",
    "    model.add(TimeDistributed(Dense(french_vocab_size, activation='softmax'))) \n",
    "   \n",
    "    \n",
    "    model.compile(loss=sparse_categorical_crossentropy,\n",
    "                  optimizer=Adam(lr=learning_rate),\n",
    "                  metrics=['accuracy'])\n",
    "    return model\n",
    "\n",
    "tests.test_model_final(model_final2)\n",
    "\n",
    "\n",
    "print('Final Model Loaded')\n",
    "# TODO: Train the final model\n",
    "\n",
    "tmp_x = pad(preproc_english_sentences, max_french_sequence_length)\n",
    "# tmp_x = tmp_x.reshape((-1, preproc_french_sentences.shape[-2], 1))\n",
    "\n",
    "final_rnn_model2 = model_final2(\n",
    "    tmp_x.shape,\n",
    "    max_french_sequence_length,\n",
    "    english_vocab_size,\n",
    "    french_vocab_size)\n",
    "\n",
    "print(final_rnn_model2.summary())\n",
    "\n",
    "final_rnn_model2.fit(tmp_x, preproc_french_sentences, batch_size=1024, epochs=10, validation_split=0.2)\n",
    "\n",
    "print(logits_to_text(final_rnn_model2.predict(tmp_x[:1])[0], french_tokenizer))"
   ]
  },
  {
   "cell_type": "markdown",
   "metadata": {},
   "source": [
    "#### Another Custom Model"
   ]
  },
  {
   "cell_type": "code",
   "execution_count": 25,
   "metadata": {},
   "outputs": [
    {
     "name": "stdout",
     "output_type": "stream",
     "text": [
      "Final Model Loaded\n",
      "Train on 110288 samples, validate on 27573 samples\n",
      "Epoch 1/10\n",
      "110288/110288 [==============================] - 69s 630us/step - loss: 2.5796 - acc: 0.4799 - val_loss: nan - val_acc: 0.5560\n",
      "Epoch 2/10\n",
      "110288/110288 [==============================] - 68s 619us/step - loss: 1.4368 - acc: 0.6158 - val_loss: nan - val_acc: 0.6628\n",
      "Epoch 3/10\n",
      "110288/110288 [==============================] - 68s 619us/step - loss: 1.1382 - acc: 0.6891 - val_loss: nan - val_acc: 0.7147\n",
      "Epoch 4/10\n",
      "110288/110288 [==============================] - 68s 619us/step - loss: 0.9412 - acc: 0.7307 - val_loss: nan - val_acc: 0.7420\n",
      "Epoch 5/10\n",
      "110288/110288 [==============================] - 68s 619us/step - loss: 0.7847 - acc: 0.7681 - val_loss: nan - val_acc: 0.7822\n",
      "Epoch 6/10\n",
      "110288/110288 [==============================] - 68s 619us/step - loss: 0.6602 - acc: 0.8003 - val_loss: nan - val_acc: 0.8177\n",
      "Epoch 7/10\n",
      "110288/110288 [==============================] - 68s 619us/step - loss: 0.5455 - acc: 0.8336 - val_loss: nan - val_acc: 0.8477\n",
      "Epoch 8/10\n",
      "110288/110288 [==============================] - 68s 620us/step - loss: 0.4382 - acc: 0.8679 - val_loss: nan - val_acc: 0.8819\n",
      "Epoch 9/10\n",
      "110288/110288 [==============================] - 68s 620us/step - loss: 0.3632 - acc: 0.8928 - val_loss: nan - val_acc: 0.8719\n",
      "Epoch 10/10\n",
      "110288/110288 [==============================] - 68s 620us/step - loss: 0.2999 - acc: 0.9131 - val_loss: nan - val_acc: 0.9277\n",
      "new jersey est parfois calme à cours et il est et en avril <PAD> <PAD> <PAD> <PAD> <PAD> <PAD> <PAD> <PAD>\n"
     ]
    }
   ],
   "source": [
    "from keras.layers import LSTM, concatenate\n",
    "def model_final(input_shape, output_sequence_length, english_vocab_size, french_vocab_size):\n",
    "    \"\"\"\n",
    "    Build and train a model that incorporates embedding, encoder-decoder, and bidirectional RNN on x and y\n",
    "    :param input_shape: Tuple of input shape\n",
    "    :param output_sequence_length: Length of output sequence\n",
    "    :param english_vocab_size: Number of unique English words in the dataset\n",
    "    :param french_vocab_size: Number of unique French words in the dataset\n",
    "    :return: Keras model built, but not trained\n",
    "    \"\"\"\n",
    "    # TODO: Implement\n",
    "    \n",
    "    learning_rate = 1e-3\n",
    "    \n",
    "    #Encoder\n",
    "    encoder_input_seq = Input(shape=input_shape[1:])\n",
    "    encoder_embedding=Embedding(input_dim=english_vocab_size, \n",
    "                                output_dim=256,\n",
    "                                input_length=input_shape[1:][0])(encoder_input_seq)\n",
    "    forward_encoder_output, forward_state_h, forward_state_c = LSTM(units=256, \n",
    "                                  return_sequences=False,\n",
    "                                  return_state=True, go_backwards=False)(encoder_embedding)\n",
    "    backward_encoder_output, backward_state_h, backward_state_c = LSTM(units=256, \n",
    "                                  return_sequences=False,\n",
    "                                  return_state=True, go_backwards=True)(encoder_embedding)\n",
    "        \n",
    "    #Decoder  \n",
    "    state_h=concatenate([forward_state_h,backward_state_h])\n",
    "    state_c=concatenate([forward_state_c,backward_state_c])\n",
    "    encoder_output=concatenate([forward_encoder_output,backward_encoder_output])\n",
    "    decoder_input_seq = RepeatVector(output_sequence_length)(encoder_output)\n",
    "    decoder_out = LSTM(units=512,\n",
    "                      return_sequences=True,\n",
    "                      return_state=False)(decoder_input_seq, initial_state=[state_h, state_c])\n",
    "    logits = TimeDistributed(Dense(units=french_vocab_size))(decoder_out) \n",
    "    \n",
    "    #Model\n",
    "    model = Model(encoder_input_seq, Activation('softmax')(logits))\n",
    " \n",
    "    model.compile(loss=sparse_categorical_crossentropy,\n",
    "                  optimizer=Adam(lr=learning_rate),\n",
    "                  metrics=['accuracy'])\n",
    "    return model\n",
    "\n",
    "tests.test_model_final(model_final)\n",
    "\n",
    "\n",
    "print('Final Model Loaded')\n",
    "# TODO: Train the final model\n",
    "\n",
    "tmp_x = pad(preproc_english_sentences, max_english_sequence_length)\n",
    "# tmp_x = tmp_x.reshape((-1, preproc_english_sentences.shape[1]))\n",
    "\n",
    "final_rnn_model = model_final(\n",
    "    tmp_x.shape,\n",
    "    max_french_sequence_length,\n",
    "    english_vocab_size,\n",
    "    french_vocab_size)\n",
    "final_rnn_model.fit(tmp_x, preproc_french_sentences, batch_size=1024, epochs=10, validation_split=0.2)\n",
    "\n",
    "print(logits_to_text(final_rnn_model.predict(tmp_x[:1])[0], french_tokenizer))"
   ]
  },
  {
   "cell_type": "code",
   "execution_count": 22,
   "metadata": {},
   "outputs": [
    {
     "name": "stdout",
     "output_type": "stream",
     "text": [
      "Final Model Loaded\n",
      "Train on 110288 samples, validate on 27573 samples\n",
      "Epoch 1/10\n",
      "110288/110288 [==============================] - 55s 503us/step - loss: 2.7136 - acc: 0.4552 - val_loss: nan - val_acc: 0.5223\n",
      "Epoch 2/10\n",
      "110288/110288 [==============================] - 54s 491us/step - loss: 1.6425 - acc: 0.5833 - val_loss: nan - val_acc: 0.6431\n",
      "Epoch 3/10\n",
      "110288/110288 [==============================] - 54s 491us/step - loss: 1.2469 - acc: 0.6628 - val_loss: nan - val_acc: 0.6895\n",
      "Epoch 4/10\n",
      "110288/110288 [==============================] - 54s 492us/step - loss: 1.0125 - acc: 0.7113 - val_loss: nan - val_acc: 0.7235\n",
      "Epoch 5/10\n",
      "110288/110288 [==============================] - 54s 491us/step - loss: 0.8744 - acc: 0.7395 - val_loss: nan - val_acc: 0.7541\n",
      "Epoch 6/10\n",
      "110288/110288 [==============================] - 54s 492us/step - loss: 0.7735 - acc: 0.7642 - val_loss: nan - val_acc: 0.7740\n",
      "Epoch 7/10\n",
      "110288/110288 [==============================] - 54s 492us/step - loss: 0.6896 - acc: 0.7886 - val_loss: nan - val_acc: 0.8044\n",
      "Epoch 8/10\n",
      "110288/110288 [==============================] - 54s 491us/step - loss: 0.5988 - acc: 0.8160 - val_loss: nan - val_acc: 0.8305\n",
      "Epoch 9/10\n",
      "110288/110288 [==============================] - 54s 492us/step - loss: 0.5159 - acc: 0.8411 - val_loss: nan - val_acc: 0.8540\n",
      "Epoch 10/10\n",
      "110288/110288 [==============================] - 54s 492us/step - loss: 0.4383 - acc: 0.8658 - val_loss: nan - val_acc: 0.8815\n",
      "new jersey est parfois humide pendant l' automne l' il est il est <PAD> <PAD> <PAD> <PAD> <PAD> <PAD> <PAD> <PAD>\n"
     ]
    }
   ],
   "source": [
    "def model_final3(input_shape, output_sequence_length, english_vocab_size, french_vocab_size):\n",
    "    \"\"\"\n",
    "    Build and train a model that incorporates embedding, encoder-decoder, and bidirectional RNN on x and y\n",
    "    :param input_shape: Tuple of input shape\n",
    "    :param output_sequence_length: Length of output sequence\n",
    "    :param english_vocab_size: Number of unique English words in the dataset\n",
    "    :param french_vocab_size: Number of unique French words in the dataset\n",
    "    :return: Keras model built, but not trained\n",
    "    \"\"\"\n",
    "    # TODO: Implement\n",
    "    \n",
    "    learning_rate = 1e-3\n",
    "    \n",
    "    #Encoder\n",
    "    encoder_input_seq = Input(shape=input_shape[1:])\n",
    "    encoder_embedding=Embedding(input_dim=english_vocab_size, \n",
    "                                output_dim=256,\n",
    "                                input_length=input_shape[1:][0])(encoder_input_seq)\n",
    "    forward_encoder_output, forward_state_h = GRU(units=256, \n",
    "                                  return_sequences=False,\n",
    "                                  return_state=True, go_backwards=False)(encoder_embedding)\n",
    "    backward_encoder_output, backward_state_h = GRU(units=256, \n",
    "                                  return_sequences=False,\n",
    "                                  return_state=True, go_backwards=True)(encoder_embedding)\n",
    "        \n",
    "    #Decoder  \n",
    "    state_h=concatenate([forward_state_h,backward_state_h])\n",
    "    encoder_output=concatenate([forward_encoder_output,backward_encoder_output])\n",
    "    decoder_input_seq = RepeatVector(output_sequence_length)(encoder_output)\n",
    "    decoder_out = GRU(units=512,\n",
    "                      return_sequences=True,\n",
    "                      return_state=False)(decoder_input_seq, initial_state=state_h)\n",
    "    logits = TimeDistributed(Dense(units=french_vocab_size))(decoder_out) \n",
    "    \n",
    "    #Model\n",
    "    model = Model(encoder_input_seq, Activation('softmax')(logits))\n",
    " \n",
    "    model.compile(loss=sparse_categorical_crossentropy,\n",
    "                  optimizer=Adam(lr=learning_rate),\n",
    "                  metrics=['accuracy'])\n",
    "    return model\n",
    "\n",
    "tests.test_model_final(model_final3)\n",
    "\n",
    "\n",
    "print('Final Model Loaded')\n",
    "# TODO: Train the final model\n",
    "\n",
    "tmp_x = pad(preproc_english_sentences, max_english_sequence_length)\n",
    "# tmp_x = tmp_x.reshape((-1, preproc_english_sentences.shape[1]))\n",
    "\n",
    "final_rnn_model3 = model_final3(\n",
    "    tmp_x.shape,\n",
    "    max_french_sequence_length,\n",
    "    english_vocab_size,\n",
    "    french_vocab_size)\n",
    "final_rnn_model3.fit(tmp_x, preproc_french_sentences, batch_size=1024, epochs=10, validation_split=0.2)\n",
    "\n",
    "print(logits_to_text(final_rnn_model3.predict(tmp_x[:1])[0], french_tokenizer))"
   ]
  },
  {
   "cell_type": "markdown",
   "metadata": {},
   "source": [
    "## Prediction (IMPLEMENTATION)"
   ]
  },
  {
   "cell_type": "code",
   "execution_count": 28,
   "metadata": {},
   "outputs": [
    {
     "name": "stdout",
     "output_type": "stream",
     "text": [
      "Train on 110288 samples, validate on 27573 samples\n",
      "Epoch 1/20\n",
      "110288/110288 [==============================] - 84s 765us/step - loss: 2.0615 - acc: 0.5416 - val_loss: 1.2947 - val_acc: 0.6480\n",
      "Epoch 2/20\n",
      "110288/110288 [==============================] - 83s 755us/step - loss: 1.0689 - acc: 0.7016 - val_loss: 0.8993 - val_acc: 0.7389\n",
      "Epoch 3/20\n",
      "110288/110288 [==============================] - 83s 755us/step - loss: 0.8006 - acc: 0.7632 - val_loss: 0.6961 - val_acc: 0.7927\n",
      "Epoch 4/20\n",
      "110288/110288 [==============================] - 83s 755us/step - loss: 0.6119 - acc: 0.8152 - val_loss: 0.5132 - val_acc: 0.8439\n",
      "Epoch 5/20\n",
      "110288/110288 [==============================] - 83s 756us/step - loss: 0.4386 - acc: 0.8687 - val_loss: 0.3564 - val_acc: 0.8953\n",
      "Epoch 6/20\n",
      "110288/110288 [==============================] - 83s 755us/step - loss: 0.3366 - acc: 0.9014 - val_loss: 0.2674 - val_acc: 0.9236\n",
      "Epoch 7/20\n",
      "110288/110288 [==============================] - 83s 755us/step - loss: 0.2149 - acc: 0.9387 - val_loss: 0.1932 - val_acc: 0.9445\n",
      "Epoch 8/20\n",
      "110288/110288 [==============================] - 83s 756us/step - loss: 0.1678 - acc: 0.9509 - val_loss: 0.1634 - val_acc: 0.9513\n",
      "Epoch 9/20\n",
      "110288/110288 [==============================] - 83s 755us/step - loss: 0.1398 - acc: 0.9584 - val_loss: 0.1386 - val_acc: 0.9586\n",
      "Epoch 10/20\n",
      "110288/110288 [==============================] - 83s 756us/step - loss: 0.1254 - acc: 0.9621 - val_loss: 0.1325 - val_acc: 0.9597\n",
      "Epoch 11/20\n",
      "110288/110288 [==============================] - 83s 756us/step - loss: 0.1085 - acc: 0.9670 - val_loss: 0.1174 - val_acc: 0.9639\n",
      "Epoch 12/20\n",
      "110288/110288 [==============================] - 83s 756us/step - loss: 0.0940 - acc: 0.9713 - val_loss: 0.1055 - val_acc: 0.9674\n",
      "Epoch 13/20\n",
      "110288/110288 [==============================] - 83s 756us/step - loss: 0.0813 - acc: 0.9749 - val_loss: 0.0935 - val_acc: 0.9720\n",
      "Epoch 14/20\n",
      "110288/110288 [==============================] - 84s 761us/step - loss: 0.0780 - acc: 0.9762 - val_loss: 0.2234 - val_acc: 0.9389\n",
      "Epoch 15/20\n",
      "110288/110288 [==============================] - 83s 756us/step - loss: 0.0699 - acc: 0.9786 - val_loss: 0.0806 - val_acc: 0.9755\n",
      "Epoch 16/20\n",
      "110288/110288 [==============================] - 83s 756us/step - loss: 0.0629 - acc: 0.9809 - val_loss: 0.0811 - val_acc: 0.9754\n",
      "Epoch 17/20\n",
      "110288/110288 [==============================] - 83s 756us/step - loss: 0.0553 - acc: 0.9830 - val_loss: 0.0796 - val_acc: 0.9761\n",
      "Epoch 18/20\n",
      "110288/110288 [==============================] - 83s 757us/step - loss: 0.0530 - acc: 0.9837 - val_loss: 0.0825 - val_acc: 0.9755\n",
      "Epoch 19/20\n",
      "110288/110288 [==============================] - 83s 756us/step - loss: 0.0465 - acc: 0.9857 - val_loss: 0.0686 - val_acc: 0.9799\n",
      "Epoch 20/20\n",
      "110288/110288 [==============================] - 83s 756us/step - loss: 0.0427 - acc: 0.9871 - val_loss: 0.0768 - val_acc: 0.9772\n",
      "Sample 1:\n",
      "il a vu un vieux camion jaune <PAD> <PAD> <PAD> <PAD> <PAD> <PAD> <PAD> <PAD> <PAD> <PAD> <PAD> <PAD> <PAD> <PAD>\n",
      "Il a vu un vieux camion jaune\n",
      "Sample 2:\n",
      "new jersey est parfois calme pendant l' automne et il est neigeux en avril <PAD> <PAD> <PAD> <PAD> <PAD> <PAD> <PAD>\n",
      "new jersey est parfois calme pendant l' automne et il est neigeux en avril <PAD> <PAD> <PAD> <PAD> <PAD> <PAD> <PAD>\n"
     ]
    }
   ],
   "source": [
    "def final_predictions(x, y, x_tk, y_tk):\n",
    "    \"\"\"\n",
    "    Gets predictions using the final model\n",
    "    :param x: Preprocessed English data\n",
    "    :param y: Preprocessed French data\n",
    "    :param x_tk: English tokenizer\n",
    "    :param y_tk: French tokenizer\n",
    "    \"\"\"\n",
    "    # TODO: Train neural network using model_final\n",
    "   \n",
    "    model = model_final(\n",
    "        x.shape,\n",
    "        y.shape[1],\n",
    "        len(x_tk.word_index)+1,\n",
    "        len(y_tk.word_index)+1)\n",
    "    \n",
    "  \n",
    "\n",
    "    model.fit(x, y, batch_size=512, epochs=20, validation_split=0.2)\n",
    "\n",
    "    \n",
    "    ## DON'T EDIT ANYTHING BELOW THIS LINE\n",
    "    y_id_to_word = {value: key for key, value in y_tk.word_index.items()}\n",
    "    y_id_to_word[0] = '<PAD>'\n",
    "\n",
    "    sentence = 'he saw a old yellow truck'\n",
    "    sentence = [x_tk.word_index[word] for word in sentence.split()]\n",
    "    sentence = pad_sequences([sentence], maxlen=x.shape[-1], padding='post')\n",
    "    sentences = np.array([sentence[0], x[0]])\n",
    "    predictions = model.predict(sentences, len(sentences))\n",
    "\n",
    "    print('Sample 1:')\n",
    "    print(' '.join([y_id_to_word[np.argmax(x)] for x in predictions[0]]))\n",
    "    print('Il a vu un vieux camion jaune')\n",
    "    print('Sample 2:')\n",
    "    print(' '.join([y_id_to_word[np.argmax(x)] for x in predictions[1]]))\n",
    "    print(' '.join([y_id_to_word[np.max(x)] for x in y[0]]))\n",
    "\n",
    "\n",
    "final_predictions(preproc_english_sentences, preproc_french_sentences, english_tokenizer, french_tokenizer)"
   ]
  },
  {
   "cell_type": "markdown",
   "metadata": {},
   "source": [
    "## Submission\n",
    "When you're ready to submit, complete the following steps:\n",
    "1. Review the rubric to ensure your submission meets all requirements to pass\n",
    "2. Generate an HTML version of this notebook\n",
    "\n",
    "  - Run the next cell to attempt automatic generation (this is the recommended method in Workspaces)\n",
    "  - Navigate to **FILE -> Download as -> HTML (.html)**\n",
    "  - Manually generate a copy using `nbconvert` from your shell terminal\n",
    "```\n",
    "$ pip install nbconvert\n",
    "$ python -m nbconvert machine_translation.ipynb\n",
    "```\n",
    "  \n",
    "3. Submit the project\n",
    "\n",
    "  - If you are in a Workspace, simply click the \"Submit Project\" button (bottom towards the right)\n",
    "  \n",
    "  - Otherwise, add the following files into a zip archive and submit them \n",
    "  - `helper.py`\n",
    "  - `machine_translation.ipynb`\n",
    "  - `machine_translation.html`\n",
    "    - You can export the notebook by navigating to **File -> Download as -> HTML (.html)**."
   ]
  },
  {
   "cell_type": "markdown",
   "metadata": {},
   "source": [
    "### Generate the html\n",
    "\n",
    "**Save your notebook before running the next cell to generate the HTML output.** Then submit your project."
   ]
  },
  {
   "cell_type": "code",
   "execution_count": 30,
   "metadata": {},
   "outputs": [
    {
     "data": {
      "text/plain": [
       "['[NbConvertApp] Converting notebook machine_translation-Copy1.ipynb to html',\n",
       " '[NbConvertApp] Writing 397203 bytes to machine_translation-Copy1.html',\n",
       " '[NbConvertApp] Converting notebook machine_translation.ipynb to html',\n",
       " '[NbConvertApp] Writing 367057 bytes to machine_translation.html',\n",
       " '[NbConvertApp] Converting notebook machine_translation-zh.ipynb to html',\n",
       " '[NbConvertApp] Writing 327943 bytes to machine_translation-zh.html']"
      ]
     },
     "execution_count": 30,
     "metadata": {},
     "output_type": "execute_result"
    }
   ],
   "source": [
    "# Save before you run this cell!\n",
    "!!jupyter nbconvert *.ipynb"
   ]
  },
  {
   "cell_type": "markdown",
   "metadata": {},
   "source": [
    "## Optional Enhancements\n",
    "\n",
    "This project focuses on learning various network architectures for machine translation, but we don't evaluate the models according to best practices by splitting the data into separate test & training sets -- so the model accuracy is overstated. Use the [`sklearn.model_selection.train_test_split()`](http://scikit-learn.org/stable/modules/generated/sklearn.model_selection.train_test_split.html) function to create separate training & test datasets, then retrain each of the models using only the training set and evaluate the prediction accuracy using the hold out test set. Does the \"best\" model change?"
   ]
  }
 ],
 "metadata": {
  "kernelspec": {
   "display_name": "Python 3 (ipykernel)",
   "language": "python",
   "name": "python3"
  },
  "language_info": {
   "codemirror_mode": {
    "name": "ipython",
    "version": 3
   },
   "file_extension": ".py",
   "mimetype": "text/x-python",
   "name": "python",
   "nbconvert_exporter": "python",
   "pygments_lexer": "ipython3",
   "version": "3.10.11"
  }
 },
 "nbformat": 4,
 "nbformat_minor": 1
}
